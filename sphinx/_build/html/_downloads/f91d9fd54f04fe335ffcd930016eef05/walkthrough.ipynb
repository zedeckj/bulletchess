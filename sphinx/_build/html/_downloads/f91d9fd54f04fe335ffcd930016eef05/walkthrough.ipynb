{
  "cells": [
    {
      "cell_type": "markdown",
      "metadata": {},
      "source": [
        "\n# Basic Walkthrough\n\nFirst, lets import everything from ``bulletchess``\n"
      ]
    },
    {
      "cell_type": "code",
      "execution_count": null,
      "metadata": {
        "collapsed": false
      },
      "outputs": [],
      "source": [
        "from bulletchess import *"
      ]
    },
    {
      "cell_type": "markdown",
      "metadata": {},
      "source": [
        "The :func:`Board()` constructor returns a :class:`Board` representing the starting position.\n\n\n"
      ]
    },
    {
      "cell_type": "code",
      "execution_count": null,
      "metadata": {
        "collapsed": false
      },
      "outputs": [],
      "source": [
        "board = Board()\nboard"
      ]
    },
    {
      "cell_type": "markdown",
      "metadata": {},
      "source": [
        "The :class:`Board` class defines :func:`Board._repr_html_()`, which allows positions to be rendered\nlike the above in Jupyter note books, or Sphinx documentation like this page.\nFor displaying a :class:`Board` as plain text, we use :func:`Board.__str__()`.\n\n"
      ]
    },
    {
      "cell_type": "code",
      "execution_count": null,
      "metadata": {
        "collapsed": false
      },
      "outputs": [],
      "source": [
        "print(str(board))"
      ]
    },
    {
      "cell_type": "markdown",
      "metadata": {},
      "source": [
        "Other positions can be specified by either using :func:`Board.from_fen()`,\n\n"
      ]
    },
    {
      "cell_type": "code",
      "execution_count": null,
      "metadata": {
        "collapsed": false
      },
      "outputs": [],
      "source": [
        "board = Board.from_fen(\"rnbqkbnr/pp1ppppp/8/2p5/4P3/5N2/PPPP1PPP/RNBQKB1R b KQkq - 1 2\")\nboard"
      ]
    },
    {
      "cell_type": "markdown",
      "metadata": {},
      "source": [
        "Or by assigning :class:`Piece` locations manually. We can use :func:`Board.empty()` to start from a clean slate.\n\n"
      ]
    },
    {
      "cell_type": "code",
      "execution_count": null,
      "metadata": {
        "collapsed": false
      },
      "outputs": [],
      "source": [
        "board = Board.empty()\nboard"
      ]
    },
    {
      "cell_type": "markdown",
      "metadata": {},
      "source": [
        "And then assign a :class:`Piece` to each :class:`Square`.\n\n\n"
      ]
    },
    {
      "cell_type": "code",
      "execution_count": null,
      "metadata": {
        "collapsed": false
      },
      "outputs": [],
      "source": [
        "board[G2] = Piece(WHITE, KING)\nboard[F2] = Piece(WHITE, PAWN)\nboard[G3] = Piece(WHITE, PAWN)\nboard[H2] = Piece(WHITE, PAWN)\nboard[B3] = Piece(WHITE, ROOK)\n\nboard[F7] = Piece(BLACK, KING)\nboard[D7] = Piece(BLACK, ROOK)\nboard[F6] = Piece(BLACK, PAWN)\nboard[G7] = Piece(BLACK, PAWN)\n\nboard"
      ]
    },
    {
      "cell_type": "markdown",
      "metadata": {},
      "source": [
        "We can get the FEN of this position with :func:`Board.fen()`. We might want to set the half-move clock\nand full-move number for this endgame position. Let's also make it black's turn.\n\n"
      ]
    },
    {
      "cell_type": "code",
      "execution_count": null,
      "metadata": {
        "collapsed": false
      },
      "outputs": [],
      "source": [
        "board.halfmove_clock = 3\nboard.fullmove_number = 43\nboard.turn = BLACK\n\nboard.fen()"
      ]
    },
    {
      "cell_type": "markdown",
      "metadata": {},
      "source": [
        "Indexing a :class:`Board` with a :class:`Color`, :class:`PieceType`, or both returns :class:`Bitboard` \nof squares with the relevant pieces. A :class:`Bitboard` is simply an efficient representation \nof a set of squares.\n\n"
      ]
    },
    {
      "cell_type": "code",
      "execution_count": null,
      "metadata": {
        "collapsed": false
      },
      "outputs": [],
      "source": [
        "print(board[WHITE])\nprint(board[ROOK])\nprint(board[BLACK, PAWN])"
      ]
    },
    {
      "cell_type": "markdown",
      "metadata": {},
      "source": [
        "We can generate legal :class:`Move` objects for this position with :func:`Board.legal_moves()`\n\n"
      ]
    },
    {
      "cell_type": "code",
      "execution_count": null,
      "metadata": {
        "collapsed": false
      },
      "outputs": [],
      "source": [
        "moves = board.legal_moves()\nprint(moves)"
      ]
    },
    {
      "cell_type": "markdown",
      "metadata": {},
      "source": [
        "Let's move our rook. To perform a move, we use :func:`Board.apply()`. \nMoves can be created manually with the :func:`Move()` constructor.\n\n"
      ]
    },
    {
      "cell_type": "code",
      "execution_count": null,
      "metadata": {
        "collapsed": false
      },
      "outputs": [],
      "source": [
        "selected_move = Move(D7, D3)\nboard.apply(selected_move)\nboard"
      ]
    },
    {
      "cell_type": "markdown",
      "metadata": {},
      "source": [
        "Oh, but that was a blunder. Moves can be undone with :func:`Board.undo()`, which returns\nthe last :class:`Move` applied. Getting the ``str`` of a :class:`Move` renders the move\nin UCI long algebraic notation.\n\n"
      ]
    },
    {
      "cell_type": "code",
      "execution_count": null,
      "metadata": {
        "collapsed": false
      },
      "outputs": [],
      "source": [
        "print(\"Undoing \" + str(board.undo()))\nboard"
      ]
    },
    {
      "cell_type": "markdown",
      "metadata": {},
      "source": [
        "Let's run the game through for a bit. Moves can also be constructed from UCI or standard algebraic notation.\n\n"
      ]
    },
    {
      "cell_type": "code",
      "execution_count": null,
      "metadata": {
        "collapsed": false
      },
      "outputs": [],
      "source": [
        "board.apply(Move.from_san(\"g5\", board))\nboard.apply(Move.from_uci(\"h2h4\"))\nboard.apply(Move(G5, H4))\nboard.apply(Move(G3, H4))\nboard.apply(Move.from_san(\"Kg7\", board))\nboard.apply(Move.from_san(\"Rg3\", board))\nboard"
      ]
    },
    {
      "cell_type": "markdown",
      "metadata": {},
      "source": [
        "Black exposed their king, and is now in check.\n\n"
      ]
    },
    {
      "cell_type": "code",
      "execution_count": null,
      "metadata": {
        "collapsed": false
      },
      "outputs": [],
      "source": [
        "board in CHECK"
      ]
    },
    {
      "cell_type": "markdown",
      "metadata": {},
      "source": [
        "But the game is still ongoing...\n\n"
      ]
    },
    {
      "cell_type": "code",
      "execution_count": null,
      "metadata": {
        "collapsed": false
      },
      "outputs": [],
      "source": [
        "board in CHECKMATE or board in DRAW"
      ]
    }
  ],
  "metadata": {
    "kernelspec": {
      "display_name": "Python 3",
      "language": "python",
      "name": "python3"
    },
    "language_info": {
      "codemirror_mode": {
        "name": "ipython",
        "version": 3
      },
      "file_extension": ".py",
      "mimetype": "text/x-python",
      "name": "python",
      "nbconvert_exporter": "python",
      "pygments_lexer": "ipython3",
      "version": "3.13.3"
    }
  },
  "nbformat": 4,
  "nbformat_minor": 0
}