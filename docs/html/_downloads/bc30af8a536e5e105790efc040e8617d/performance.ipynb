{
  "cells": [
    {
      "cell_type": "markdown",
      "metadata": {},
      "source": [
        "\n# Performance Comparisons\n\n``bulletchess``'s creation was motivated by my frustration with [python-chess](https://python-chess.readthedocs.io/en/latest/)'s slow performance, especially for areas such as machine learning and engine development. \n``python-chess`` is a fantastic, feature-rich library, but is inherently limited in its speed by being implemented in python. ``bulletchess``, however, is implemented as a pure C-extension, \nallowing it to be significantly faster. To demonstrate this, we can write equivalent functions in both libraries, and compare the runtimes.\n\n\n<div class=\"alert alert-info\"><h4>Note</h4><p>``bulletchess`` is neither an extension nor a port of ``python-chess``, and has a distinct and independent implementation.</p></div>\n\nLet's start by implementing a [Perft](https://www.chessprogramming.org/Perft) function. In ``bulletchess``:\n"
      ]
    },
    {
      "cell_type": "code",
      "execution_count": null,
      "metadata": {
        "collapsed": false
      },
      "outputs": [],
      "source": [
        "import bulletchess\nfrom bulletchess.utils import count_moves\n\ndef bullet_perft(board : bulletchess.Board, depth : int) -> int:\n    if depth == 0:\n        return 1\n    elif depth == 1:\n        return count_moves(board)\n    else:\n        nodes = 0\n        moves = board.legal_moves()\n        for move in moves:\n            board.apply(move)\n            nodes += bullet_perft(board, depth - 1)\n            board.undo()\n        return nodes"
      ]
    },
    {
      "cell_type": "markdown",
      "metadata": {},
      "source": [
        "And in ``python-chess``\n\n"
      ]
    },
    {
      "cell_type": "code",
      "execution_count": null,
      "metadata": {
        "collapsed": false
      },
      "outputs": [],
      "source": [
        "import chess\ndef chess_perft(board : chess.Board, depth : int) -> int:\n    if depth == 0:\n        return 1\n    elif depth == 1:\n        return board.legal_moves.count()\n    else:\n        nodes = 0\n        for move in board.legal_moves:\n            board.push(move)\n            nodes += chess_perft(board, depth - 1)\n            board.pop()\n        return nodes"
      ]
    },
    {
      "cell_type": "markdown",
      "metadata": {},
      "source": [
        "Notice how the code we write is nearly identical. However, when we test their run times:\n\n"
      ]
    },
    {
      "cell_type": "code",
      "execution_count": null,
      "metadata": {
        "collapsed": false
      },
      "outputs": [],
      "source": [
        "from time import time\n\nstart = time()\nresult = chess_perft(chess.Board(), 6)\nchess_time = time() - start\nprint(f\"`chess_perft` returned {result} in {chess_time:.4f}s\")\n\nstart = time()\nbullet_perft(bulletchess.Board(), 6)\nbullet_time = time() - start\nprint(f\"`bullet_perft` returned {result} in {bullet_time:.4f}s\")\n\nprint(f\"bulletchess is {chess_time/bullet_time:.4f}x faster\")"
      ]
    },
    {
      "cell_type": "markdown",
      "metadata": {},
      "source": [
        "We see a massive difference in ``bulletchess``'s move generation and application speed. \n``bulletchess`` is also very fast at writing and parsing FEN strings. \n\n"
      ]
    },
    {
      "cell_type": "code",
      "execution_count": null,
      "metadata": {
        "collapsed": false
      },
      "outputs": [],
      "source": [
        "import json\n# JSON file with a list of 1 million FENs\nwith open(\"../data/fens.json\", \"r\") as f:\n    fens = json.load(f)"
      ]
    },
    {
      "cell_type": "markdown",
      "metadata": {},
      "source": [
        "We can define FEN \"roundtrip\" functions in ``bulletchess`` and ``python-chess``, which will take in a list of FEN strings.\nEach FEN will be parsed to create a object representation for the position it describes.\nThen, each object will write a new FEN string describing itself, which should match the original.\nNeither library stores the given FEN when a board object is created,\nso both ``bulletchess`` and ``python-chess`` will fully parse and rewrite the input FENs.\n\n"
      ]
    },
    {
      "cell_type": "code",
      "execution_count": null,
      "metadata": {
        "collapsed": false
      },
      "outputs": [],
      "source": [
        "def bullet_roundtrip(fens : list[str]):\n    boards = [bulletchess.Board.from_fen(fen)\n              for fen in fens]\n    return [board.fen() for board in boards]\n\n\ndef chess_roundtrip(fens : list[str]):\n    boards = [chess.Board(fen) for fen in fens]\n    return [board.fen(en_passant = \"fen\") for board in boards]"
      ]
    },
    {
      "cell_type": "markdown",
      "metadata": {},
      "source": [
        "Like before, we'll compare the runtimes of each version.\n\n"
      ]
    },
    {
      "cell_type": "code",
      "execution_count": null,
      "metadata": {
        "collapsed": false
      },
      "outputs": [],
      "source": [
        "start = time()\nchess_fens = chess_roundtrip(fens)\nchess_time = time() - start\nprint(f\"`chess_roundtrip` took {chess_time:.4}s\")\n\nstart = time()\nbullet_fens = bullet_roundtrip(fens)\nbullet_time = time() - start\nprint(f\"`bullet_roundtrip` took {bullet_time:.4}s\")\n\nprint(f\"bulletchess is {chess_time/bullet_time:.4f}x faster\")\n\nassert(chess_fens == bullet_fens)"
      ]
    },
    {
      "cell_type": "markdown",
      "metadata": {},
      "source": [
        "Once again, ``bulletchess`` is much faster. Using the same dataset of FENs, lets compare checking if positions\nare checkmate, a draw, or ongoing. \n\n"
      ]
    },
    {
      "cell_type": "code",
      "execution_count": null,
      "metadata": {
        "collapsed": false
      },
      "outputs": [],
      "source": [
        "def chess_statuses(boards : list[chess.Board]) -> dict:\n    outcomes = {\"ongoing\": 0, \"checkmate\": 0, \"draw\": 0}\n    for board in boards:\n        outcome = board.outcome(claim_draw = True)\n        if outcome == None:\n            outcomes[\"ongoing\"] += 1\n        elif outcome.winner != None:\n            outcomes[\"checkmate\"] += 1\n        else:\n            outcomes[\"draw\"] += 1\n    return outcomes\n\n\nfrom bulletchess import CHECKMATE, DRAW\ndef bullet_statuses(boards : list[bulletchess.Board]) -> dict:\n    outcomes = {\"ongoing\": 0, \"checkmate\": 0, \"draw\": 0}\n    for board in boards:\n        if board in CHECKMATE:\n            outcomes[\"checkmate\"] += 1\n        elif board in DRAW:\n            outcomes[\"draw\"] += 1\n        else:\n            outcomes[\"ongoing\"] += 1\n    return outcomes"
      ]
    },
    {
      "cell_type": "markdown",
      "metadata": {},
      "source": [
        "The syntax of ``bulletchess`` and ``python-chess`` diverges more here,\nbut the structure is still the same. Running the comparison:\n\n"
      ]
    },
    {
      "cell_type": "code",
      "execution_count": null,
      "metadata": {
        "collapsed": false
      },
      "outputs": [],
      "source": [
        "chess_boards = [chess.Board(fen) for fen in fens]\nbullet_boards = [bulletchess.Board.from_fen(fen) for fen in fens]\n\nstart = time()\nchess_res = chess_statuses(chess_boards)\nchess_time = time() - start\nprint(f\"`chess_statuses` took {chess_time:.4}s\")\nprint(chess_res)\n\nstart = time()\nbullet_res = bullet_statuses(bullet_boards)\nbullet_time = time() - start\nprint(f\"`bullet_statuses` took {bullet_time:.4}s\")\nprint(bullet_res)\n\nprint(f\"bulletchess is {chess_time/bullet_time:.4f}x faster\")"
      ]
    },
    {
      "cell_type": "markdown",
      "metadata": {},
      "source": [
        "The speed up is even larger. Like ``python-chess``, ``bulletchess`` provides a PGN reader. Let's do a simple task reading a PGN file,\nwe'll go through every position in each game, and check how many have a pawn of any color on E4. \n\n"
      ]
    },
    {
      "cell_type": "code",
      "execution_count": null,
      "metadata": {
        "collapsed": false
      },
      "outputs": [],
      "source": [
        "import chess.pgn\nimport bulletchess.pgn\n# a large PGN file\nPATH = \"../data/pgn/modern.pgn\"\n\ndef chess_check_games():\n    count = 0\n    with open(PATH, \"r\") as f:\n        game = chess.pgn.read_game(f)\n        while game:\n            board = chess.Board()\n            for move in game.mainline_moves():\n                board.push(move)\n                if board.piece_type_at(chess.E4) == chess.PAWN:\n                    count += 1\n            game = chess.pgn.read_game(f)\n    return count\n\ndef bullet_check_games():\n    count = 0\n    with bulletchess.pgn.PGNFile.open(PATH) as f:\n        game = f.next_game()\n        while game:\n            board = game.starting_board\n            for move in game.moves:\n                board.apply(move)\n                piece = board[bulletchess.E4]\n                if piece and piece.piece_type == bulletchess.PAWN:\n                    count += 1\n            game = f.next_game()\n    return count"
      ]
    },
    {
      "cell_type": "markdown",
      "metadata": {},
      "source": [
        "We've kept the operation on each position simple on purpose, so we can more directly compare \nreading through games.\n\n"
      ]
    },
    {
      "cell_type": "code",
      "execution_count": null,
      "metadata": {
        "collapsed": false
      },
      "outputs": [],
      "source": [
        "start = time()\nchess_res = chess_check_games()\nchess_time = time() - start\nprint(f\"`chess_check_games` took {chess_time:.4}s\")\nprint(f\"python-chess found {chess_res} positions with a pawn on E4\")\n\nstart = time()\nbullet_res = bullet_check_games()\nbullet_time = time() - start\nprint(f\"`bullet_check_games` took {bullet_time:.4}s\")\nprint(f\"bulletchess found {bullet_res} positions with a pawn on E4\")\n\nprint(f\"bulletchess is {chess_time/bullet_time:.4f}x faster\")"
      ]
    }
  ],
  "metadata": {
    "kernelspec": {
      "display_name": "Python 3",
      "language": "python",
      "name": "python3"
    },
    "language_info": {
      "codemirror_mode": {
        "name": "ipython",
        "version": 3
      },
      "file_extension": ".py",
      "mimetype": "text/x-python",
      "name": "python",
      "nbconvert_exporter": "python",
      "pygments_lexer": "ipython3",
      "version": "3.13.3"
    }
  },
  "nbformat": 4,
  "nbformat_minor": 0
}